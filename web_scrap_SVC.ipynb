{
 "cells": [
  {
   "cell_type": "markdown",
   "metadata": {},
   "source": [
    "<h1 align='center' style='color:purple'><b>Web Scraping & SVC</b></h1>"
   ]
  },
  {
   "cell_type": "markdown",
   "metadata": {},
   "source": [
    "SVM offers very high accuracy compared to other classifiers such as logistic regression, and decision trees. It is known for its kernel trick to handle nonlinear input spaces. It is used in a variety of applications such as face detection, spam classification, classification of genes etc.\n",
    "\n",
    "The SVM classifier ([SVC](https://scikit-learn.org/stable/modules/generated/sklearn.svm.SVC.html)) separates data points using a hyperplane with the largest amount of margin. That's why an SVM classifier is also known as a discriminative classifier. SVM finds an optimal hyperplane which helps in classifying new data points."
   ]
  },
  {
   "cell_type": "code",
   "execution_count": 1,
   "metadata": {},
   "outputs": [],
   "source": [
    "import math\n",
    "import pandas as pd\n",
    "import matplotlib.pyplot as plt\n",
    "import numpy as np\n",
    "from sklearn.preprocessing import MinMaxScaler\n",
    "from sklearn.svm import SVC\n",
    "from sklearn.model_selection import cross_validate, GridSearchCV"
   ]
  },
  {
   "cell_type": "markdown",
   "metadata": {},
   "source": [
    "<h1><b> Web-Scraping </b></h1>"
   ]
  },
  {
   "cell_type": "markdown",
   "metadata": {},
   "source": [
    "[Selenium](https://selenium-python.readthedocs.io/) is an open-source web-based automation tool. Selenium primarily used for testing in the industry but It can also be used for importing webdriver & web scraping."
   ]
  },
  {
   "cell_type": "code",
   "execution_count": 2,
   "metadata": {},
   "outputs": [],
   "source": [
    "# Import webdriver through selenium\n",
    "from selenium import webdriver\n",
    "# Import options, to specify some instructions for the webdriver\n",
    "from selenium.webdriver.chrome.options import Options"
   ]
  },
  {
   "cell_type": "markdown",
   "metadata": {},
   "source": [
    "Set 'Headless' option"
   ]
  },
  {
   "cell_type": "code",
   "execution_count": 4,
   "metadata": {},
   "outputs": [],
   "source": [
    "# headless browsers are web browsers without a graphical user interface (GUI) and are usually controlled programmatically or via a command-line interface\n",
    "ops = Options()\n",
    "ops.add_argument(\"--headless\")"
   ]
  },
  {
   "cell_type": "markdown",
   "metadata": {},
   "source": [
    "<b>Download [ChromeDriver](https://chromedriver.chromium.org/downloads)</b>  \n",
    " - Extract driver file from zipped folder and keep it in your project folder (where your code file is).  \n",
    " - Choose the same version of ChromeDriver as that of your Chrome Browser version."
   ]
  },
  {
   "cell_type": "code",
   "execution_count": 5,
   "metadata": {},
   "outputs": [],
   "source": [
    "# Define driver and pass instructions\n",
    "driver = webdriver.Chrome(executable_path=\"chromedriver.exe\", options=ops)\n",
    "\n",
    "# Get Data from the web page\n",
    "driver.get(\"https://b2gdevs.github.io/MLIntro/heart-disease.html\")"
   ]
  },
  {
   "cell_type": "markdown",
   "metadata": {},
   "source": [
    "<b>Heart Disease Prediction</b>\n",
    "\n",
    "We will be Scraping 13 input Features along with the target. The objective is predict the presence of heart disease in the patient.\n",
    "\n",
    "Data Dictionary :  \n",
    " 1. age\n",
    " 2. sex\n",
    " 3. cp : chest pain type (4 values)\n",
    " 4. trestbps : resting blood pressure\n",
    " 5. chol : serum cholestoral in mg/dl\n",
    " 6. fbs : fasting blood sugar > 120 mg/dl\n",
    " 7. restecg : resting electrocardiographic results\n",
    " 8. thalach : maximum heart rate achieved\n",
    " 9. exang : exercise induced angina\n",
    " 10. oldpeak : ST depression induced by exercise relative to rest\n",
    " 11. slope : the slope of the peak exercise ST segment\n",
    " 12. ca : number of major vessels (0-3) colored by flourosopy\n",
    " 13. thal : integers representing normal, fixed defect, reversable defect"
   ]
  },
  {
   "cell_type": "markdown",
   "metadata": {},
   "source": [
    "<b> Extract Data from Web-page by class Name. </b>  \n",
    "Class name of each variable present on the website will be used to Scrape Data. Read about other methods of locating a variable on the webpage [here](https://selenium-python.readthedocs.io/locating-elements.html).  \n",
    "\n",
    "Steps to get class Name :  \n",
    " - Open the website (using the link specified above), Right click and select 'inspect'. \n",
    " - A new menu will appear.\n",
    " - Now, Right-click on different attributes of patient record. Again select inspect.\n",
    " - A new line of code will be highlighted which will contain class name."
   ]
  },
  {
   "cell_type": "code",
   "execution_count": 6,
   "metadata": {},
   "outputs": [],
   "source": [
    "# '.find_elements_by_class_name' returns the object of the matching element of the specified locator.\n",
    "age = driver.find_elements_by_class_name(\"patient-age\")\n",
    "sex = driver.find_elements_by_class_name(\"patient-sex\")\n",
    "cp = driver.find_elements_by_class_name(\"patient-cp\")\n",
    "trestbps = driver.find_elements_by_class_name(\"patient-trestbps\")\n",
    "chol = driver.find_elements_by_class_name(\"patient-chol\")\n",
    "fbs = driver.find_elements_by_class_name(\"patient-fbs\")\n",
    "restecg = driver.find_elements_by_class_name(\"patient-restecg\")\n",
    "thalach = driver.find_elements_by_class_name(\"patient-thalach\")\n",
    "exang = driver.find_elements_by_class_name(\"patient-exang\")\n",
    "oldpeak = driver.find_elements_by_class_name(\"patient-oldpeak\")\n",
    "slope = driver.find_elements_by_class_name(\"patient-slope\")\n",
    "ca = driver.find_elements_by_class_name(\"patient-ca\")\n",
    "thal = driver.find_elements_by_class_name(\"patient-thal\")\n",
    "target = driver.find_elements_by_class_name(\"patient-target\")"
   ]
  },
  {
   "cell_type": "code",
   "execution_count": 10,
   "metadata": {},
   "outputs": [
    {
     "data": {
      "text/plain": [
       "'41'"
      ]
     },
     "execution_count": 10,
     "metadata": {},
     "output_type": "execute_result"
    }
   ],
   "source": [
    "age[0].text"
   ]
  },
  {
   "cell_type": "code",
   "execution_count": 11,
   "metadata": {},
   "outputs": [],
   "source": [
    "# Define an array where you will store all the records iteratively\n",
    "all_records = []\n",
    "\n",
    "for i in range(len(age)-1):    # Use len(age)-1, as the values present in the last record are undefined\n",
    "    record = []\n",
    "    \n",
    "    record.append(int(age[i].text))\n",
    "    record.append(int(sex[i].text))\n",
    "    record.append(int(cp[i].text))\n",
    "    record.append(int(trestbps[i].text))\n",
    "    record.append(int(chol[i].text))\n",
    "    record.append(int(fbs[i].text))\n",
    "    record.append(int(restecg[i].text))\n",
    "    record.append(int(thalach[i].text))\n",
    "    record.append(int(exang[i].text))\n",
    "    record.append(float(oldpeak[i].text))\n",
    "    record.append(int(slope[i].text))\n",
    "    record.append(int(ca[i].text))\n",
    "    record.append(int(thal[i].text))\n",
    "    record.append(int(target[i].text))\n",
    "    \n",
    "    all_records.append(record)"
   ]
  },
  {
   "cell_type": "markdown",
   "metadata": {},
   "source": [
    "<b> Store the Scraped data in a DataFrame </b>"
   ]
  },
  {
   "cell_type": "code",
   "execution_count": 12,
   "metadata": {},
   "outputs": [],
   "source": [
    "import pandas as pd\n",
    "df = pd.DataFrame(all_records, columns = ['age', 'sex', 'cp', 'trestbps', 'chol', 'fbs',\n",
    "                                       'restecg', 'thalach', 'exang', 'oldpeak', 'slope',\n",
    "                                       'ca', 'thal', 'target'])"
   ]
  },
  {
   "cell_type": "code",
   "execution_count": 14,
   "metadata": {},
   "outputs": [
    {
     "data": {
      "text/html": [
       "<div>\n",
       "<style scoped>\n",
       "    .dataframe tbody tr th:only-of-type {\n",
       "        vertical-align: middle;\n",
       "    }\n",
       "\n",
       "    .dataframe tbody tr th {\n",
       "        vertical-align: top;\n",
       "    }\n",
       "\n",
       "    .dataframe thead th {\n",
       "        text-align: right;\n",
       "    }\n",
       "</style>\n",
       "<table border=\"1\" class=\"dataframe\">\n",
       "  <thead>\n",
       "    <tr style=\"text-align: right;\">\n",
       "      <th></th>\n",
       "      <th>age</th>\n",
       "      <th>sex</th>\n",
       "      <th>cp</th>\n",
       "      <th>trestbps</th>\n",
       "      <th>chol</th>\n",
       "      <th>fbs</th>\n",
       "      <th>restecg</th>\n",
       "      <th>thalach</th>\n",
       "      <th>exang</th>\n",
       "      <th>oldpeak</th>\n",
       "      <th>slope</th>\n",
       "      <th>ca</th>\n",
       "      <th>thal</th>\n",
       "      <th>target</th>\n",
       "    </tr>\n",
       "  </thead>\n",
       "  <tbody>\n",
       "    <tr>\n",
       "      <th>163</th>\n",
       "      <td>67</td>\n",
       "      <td>1</td>\n",
       "      <td>0</td>\n",
       "      <td>160</td>\n",
       "      <td>286</td>\n",
       "      <td>0</td>\n",
       "      <td>6</td>\n",
       "      <td>108</td>\n",
       "      <td>1</td>\n",
       "      <td>1.5</td>\n",
       "      <td>1</td>\n",
       "      <td>3</td>\n",
       "      <td>2</td>\n",
       "      <td>0</td>\n",
       "    </tr>\n",
       "    <tr>\n",
       "      <th>164</th>\n",
       "      <td>67</td>\n",
       "      <td>1</td>\n",
       "      <td>0</td>\n",
       "      <td>120</td>\n",
       "      <td>229</td>\n",
       "      <td>0</td>\n",
       "      <td>6</td>\n",
       "      <td>129</td>\n",
       "      <td>1</td>\n",
       "      <td>2.6</td>\n",
       "      <td>1</td>\n",
       "      <td>2</td>\n",
       "      <td>3</td>\n",
       "      <td>0</td>\n",
       "    </tr>\n",
       "    <tr>\n",
       "      <th>165</th>\n",
       "      <td>62</td>\n",
       "      <td>0</td>\n",
       "      <td>0</td>\n",
       "      <td>140</td>\n",
       "      <td>268</td>\n",
       "      <td>0</td>\n",
       "      <td>6</td>\n",
       "      <td>160</td>\n",
       "      <td>0</td>\n",
       "      <td>3.6</td>\n",
       "      <td>0</td>\n",
       "      <td>2</td>\n",
       "      <td>2</td>\n",
       "      <td>0</td>\n",
       "    </tr>\n",
       "    <tr>\n",
       "      <th>166</th>\n",
       "      <td>63</td>\n",
       "      <td>1</td>\n",
       "      <td>0</td>\n",
       "      <td>130</td>\n",
       "      <td>254</td>\n",
       "      <td>0</td>\n",
       "      <td>6</td>\n",
       "      <td>147</td>\n",
       "      <td>0</td>\n",
       "      <td>1.4</td>\n",
       "      <td>1</td>\n",
       "      <td>1</td>\n",
       "      <td>3</td>\n",
       "      <td>0</td>\n",
       "    </tr>\n",
       "    <tr>\n",
       "      <th>167</th>\n",
       "      <td>53</td>\n",
       "      <td>1</td>\n",
       "      <td>0</td>\n",
       "      <td>140</td>\n",
       "      <td>203</td>\n",
       "      <td>1</td>\n",
       "      <td>6</td>\n",
       "      <td>155</td>\n",
       "      <td>1</td>\n",
       "      <td>3.1</td>\n",
       "      <td>0</td>\n",
       "      <td>0</td>\n",
       "      <td>3</td>\n",
       "      <td>0</td>\n",
       "    </tr>\n",
       "    <tr>\n",
       "      <th>...</th>\n",
       "      <td>...</td>\n",
       "      <td>...</td>\n",
       "      <td>...</td>\n",
       "      <td>...</td>\n",
       "      <td>...</td>\n",
       "      <td>...</td>\n",
       "      <td>...</td>\n",
       "      <td>...</td>\n",
       "      <td>...</td>\n",
       "      <td>...</td>\n",
       "      <td>...</td>\n",
       "      <td>...</td>\n",
       "      <td>...</td>\n",
       "      <td>...</td>\n",
       "    </tr>\n",
       "    <tr>\n",
       "      <th>296</th>\n",
       "      <td>57</td>\n",
       "      <td>0</td>\n",
       "      <td>0</td>\n",
       "      <td>140</td>\n",
       "      <td>241</td>\n",
       "      <td>0</td>\n",
       "      <td>6</td>\n",
       "      <td>123</td>\n",
       "      <td>1</td>\n",
       "      <td>0.2</td>\n",
       "      <td>1</td>\n",
       "      <td>0</td>\n",
       "      <td>3</td>\n",
       "      <td>0</td>\n",
       "    </tr>\n",
       "    <tr>\n",
       "      <th>297</th>\n",
       "      <td>45</td>\n",
       "      <td>1</td>\n",
       "      <td>3</td>\n",
       "      <td>110</td>\n",
       "      <td>264</td>\n",
       "      <td>0</td>\n",
       "      <td>6</td>\n",
       "      <td>132</td>\n",
       "      <td>0</td>\n",
       "      <td>1.2</td>\n",
       "      <td>1</td>\n",
       "      <td>0</td>\n",
       "      <td>3</td>\n",
       "      <td>0</td>\n",
       "    </tr>\n",
       "    <tr>\n",
       "      <th>298</th>\n",
       "      <td>68</td>\n",
       "      <td>1</td>\n",
       "      <td>0</td>\n",
       "      <td>144</td>\n",
       "      <td>193</td>\n",
       "      <td>1</td>\n",
       "      <td>6</td>\n",
       "      <td>141</td>\n",
       "      <td>0</td>\n",
       "      <td>3.4</td>\n",
       "      <td>1</td>\n",
       "      <td>2</td>\n",
       "      <td>3</td>\n",
       "      <td>0</td>\n",
       "    </tr>\n",
       "    <tr>\n",
       "      <th>299</th>\n",
       "      <td>57</td>\n",
       "      <td>1</td>\n",
       "      <td>0</td>\n",
       "      <td>130</td>\n",
       "      <td>131</td>\n",
       "      <td>0</td>\n",
       "      <td>6</td>\n",
       "      <td>115</td>\n",
       "      <td>1</td>\n",
       "      <td>1.2</td>\n",
       "      <td>1</td>\n",
       "      <td>1</td>\n",
       "      <td>3</td>\n",
       "      <td>0</td>\n",
       "    </tr>\n",
       "    <tr>\n",
       "      <th>300</th>\n",
       "      <td>57</td>\n",
       "      <td>0</td>\n",
       "      <td>1</td>\n",
       "      <td>130</td>\n",
       "      <td>236</td>\n",
       "      <td>0</td>\n",
       "      <td>6</td>\n",
       "      <td>174</td>\n",
       "      <td>0</td>\n",
       "      <td>0.0</td>\n",
       "      <td>1</td>\n",
       "      <td>1</td>\n",
       "      <td>2</td>\n",
       "      <td>0</td>\n",
       "    </tr>\n",
       "  </tbody>\n",
       "</table>\n",
       "<p>138 rows × 14 columns</p>\n",
       "</div>"
      ],
      "text/plain": [
       "     age  sex  cp  trestbps  chol  fbs  restecg  thalach  exang  oldpeak  \\\n",
       "163   67    1   0       160   286    0        6      108      1      1.5   \n",
       "164   67    1   0       120   229    0        6      129      1      2.6   \n",
       "165   62    0   0       140   268    0        6      160      0      3.6   \n",
       "166   63    1   0       130   254    0        6      147      0      1.4   \n",
       "167   53    1   0       140   203    1        6      155      1      3.1   \n",
       "..   ...  ...  ..       ...   ...  ...      ...      ...    ...      ...   \n",
       "296   57    0   0       140   241    0        6      123      1      0.2   \n",
       "297   45    1   3       110   264    0        6      132      0      1.2   \n",
       "298   68    1   0       144   193    1        6      141      0      3.4   \n",
       "299   57    1   0       130   131    0        6      115      1      1.2   \n",
       "300   57    0   1       130   236    0        6      174      0      0.0   \n",
       "\n",
       "     slope  ca  thal  target  \n",
       "163      1   3     2       0  \n",
       "164      1   2     3       0  \n",
       "165      0   2     2       0  \n",
       "166      1   1     3       0  \n",
       "167      0   0     3       0  \n",
       "..     ...  ..   ...     ...  \n",
       "296      1   0     3       0  \n",
       "297      1   0     3       0  \n",
       "298      1   2     3       0  \n",
       "299      1   1     3       0  \n",
       "300      1   1     2       0  \n",
       "\n",
       "[138 rows x 14 columns]"
      ]
     },
     "execution_count": 14,
     "metadata": {},
     "output_type": "execute_result"
    }
   ],
   "source": [
    "df[df.target == 0]"
   ]
  },
  {
   "cell_type": "code",
   "execution_count": 15,
   "metadata": {},
   "outputs": [
    {
     "name": "stdout",
     "output_type": "stream",
     "text": [
      "<class 'pandas.core.frame.DataFrame'>\n",
      "RangeIndex: 301 entries, 0 to 300\n",
      "Data columns (total 14 columns):\n",
      " #   Column    Non-Null Count  Dtype  \n",
      "---  ------    --------------  -----  \n",
      " 0   age       301 non-null    int64  \n",
      " 1   sex       301 non-null    int64  \n",
      " 2   cp        301 non-null    int64  \n",
      " 3   trestbps  301 non-null    int64  \n",
      " 4   chol      301 non-null    int64  \n",
      " 5   fbs       301 non-null    int64  \n",
      " 6   restecg   301 non-null    int64  \n",
      " 7   thalach   301 non-null    int64  \n",
      " 8   exang     301 non-null    int64  \n",
      " 9   oldpeak   301 non-null    float64\n",
      " 10  slope     301 non-null    int64  \n",
      " 11  ca        301 non-null    int64  \n",
      " 12  thal      301 non-null    int64  \n",
      " 13  target    301 non-null    int64  \n",
      "dtypes: float64(1), int64(13)\n",
      "memory usage: 33.0 KB\n"
     ]
    }
   ],
   "source": [
    "df.info()"
   ]
  },
  {
   "cell_type": "markdown",
   "metadata": {},
   "source": [
    "No Missing values!"
   ]
  },
  {
   "cell_type": "code",
   "execution_count": 16,
   "metadata": {},
   "outputs": [
    {
     "data": {
      "text/html": [
       "<div>\n",
       "<style scoped>\n",
       "    .dataframe tbody tr th:only-of-type {\n",
       "        vertical-align: middle;\n",
       "    }\n",
       "\n",
       "    .dataframe tbody tr th {\n",
       "        vertical-align: top;\n",
       "    }\n",
       "\n",
       "    .dataframe thead th {\n",
       "        text-align: right;\n",
       "    }\n",
       "</style>\n",
       "<table border=\"1\" class=\"dataframe\">\n",
       "  <thead>\n",
       "    <tr style=\"text-align: right;\">\n",
       "      <th></th>\n",
       "      <th>age</th>\n",
       "      <th>sex</th>\n",
       "      <th>cp</th>\n",
       "      <th>trestbps</th>\n",
       "      <th>chol</th>\n",
       "      <th>fbs</th>\n",
       "      <th>restecg</th>\n",
       "      <th>thalach</th>\n",
       "      <th>exang</th>\n",
       "      <th>oldpeak</th>\n",
       "      <th>slope</th>\n",
       "      <th>ca</th>\n",
       "      <th>thal</th>\n",
       "      <th>target</th>\n",
       "    </tr>\n",
       "  </thead>\n",
       "  <tbody>\n",
       "    <tr>\n",
       "      <th>count</th>\n",
       "      <td>301.000000</td>\n",
       "      <td>301.000000</td>\n",
       "      <td>301.000000</td>\n",
       "      <td>301.000000</td>\n",
       "      <td>301.000000</td>\n",
       "      <td>301.000000</td>\n",
       "      <td>301.0</td>\n",
       "      <td>301.000000</td>\n",
       "      <td>301.000000</td>\n",
       "      <td>301.000000</td>\n",
       "      <td>301.000000</td>\n",
       "      <td>301.000000</td>\n",
       "      <td>301.000000</td>\n",
       "      <td>301.000000</td>\n",
       "    </tr>\n",
       "    <tr>\n",
       "      <th>mean</th>\n",
       "      <td>54.395349</td>\n",
       "      <td>0.681063</td>\n",
       "      <td>0.956811</td>\n",
       "      <td>131.584718</td>\n",
       "      <td>246.295681</td>\n",
       "      <td>0.146179</td>\n",
       "      <td>6.0</td>\n",
       "      <td>149.521595</td>\n",
       "      <td>0.328904</td>\n",
       "      <td>1.027243</td>\n",
       "      <td>1.408638</td>\n",
       "      <td>0.734219</td>\n",
       "      <td>2.318937</td>\n",
       "      <td>0.541528</td>\n",
       "    </tr>\n",
       "    <tr>\n",
       "      <th>std</th>\n",
       "      <td>9.043221</td>\n",
       "      <td>0.466841</td>\n",
       "      <td>1.027032</td>\n",
       "      <td>17.579258</td>\n",
       "      <td>51.997137</td>\n",
       "      <td>0.353874</td>\n",
       "      <td>0.0</td>\n",
       "      <td>22.879620</td>\n",
       "      <td>0.470597</td>\n",
       "      <td>1.153887</td>\n",
       "      <td>0.607557</td>\n",
       "      <td>1.024268</td>\n",
       "      <td>0.609322</td>\n",
       "      <td>0.499102</td>\n",
       "    </tr>\n",
       "    <tr>\n",
       "      <th>min</th>\n",
       "      <td>29.000000</td>\n",
       "      <td>0.000000</td>\n",
       "      <td>0.000000</td>\n",
       "      <td>94.000000</td>\n",
       "      <td>126.000000</td>\n",
       "      <td>0.000000</td>\n",
       "      <td>6.0</td>\n",
       "      <td>71.000000</td>\n",
       "      <td>0.000000</td>\n",
       "      <td>0.000000</td>\n",
       "      <td>0.000000</td>\n",
       "      <td>0.000000</td>\n",
       "      <td>0.000000</td>\n",
       "      <td>0.000000</td>\n",
       "    </tr>\n",
       "    <tr>\n",
       "      <th>25%</th>\n",
       "      <td>48.000000</td>\n",
       "      <td>0.000000</td>\n",
       "      <td>0.000000</td>\n",
       "      <td>120.000000</td>\n",
       "      <td>211.000000</td>\n",
       "      <td>0.000000</td>\n",
       "      <td>6.0</td>\n",
       "      <td>133.000000</td>\n",
       "      <td>0.000000</td>\n",
       "      <td>0.000000</td>\n",
       "      <td>1.000000</td>\n",
       "      <td>0.000000</td>\n",
       "      <td>2.000000</td>\n",
       "      <td>0.000000</td>\n",
       "    </tr>\n",
       "    <tr>\n",
       "      <th>50%</th>\n",
       "      <td>55.000000</td>\n",
       "      <td>1.000000</td>\n",
       "      <td>1.000000</td>\n",
       "      <td>130.000000</td>\n",
       "      <td>240.000000</td>\n",
       "      <td>0.000000</td>\n",
       "      <td>6.0</td>\n",
       "      <td>153.000000</td>\n",
       "      <td>0.000000</td>\n",
       "      <td>0.800000</td>\n",
       "      <td>1.000000</td>\n",
       "      <td>0.000000</td>\n",
       "      <td>2.000000</td>\n",
       "      <td>1.000000</td>\n",
       "    </tr>\n",
       "    <tr>\n",
       "      <th>75%</th>\n",
       "      <td>61.000000</td>\n",
       "      <td>1.000000</td>\n",
       "      <td>2.000000</td>\n",
       "      <td>140.000000</td>\n",
       "      <td>275.000000</td>\n",
       "      <td>0.000000</td>\n",
       "      <td>6.0</td>\n",
       "      <td>166.000000</td>\n",
       "      <td>1.000000</td>\n",
       "      <td>1.600000</td>\n",
       "      <td>2.000000</td>\n",
       "      <td>1.000000</td>\n",
       "      <td>3.000000</td>\n",
       "      <td>1.000000</td>\n",
       "    </tr>\n",
       "    <tr>\n",
       "      <th>max</th>\n",
       "      <td>77.000000</td>\n",
       "      <td>1.000000</td>\n",
       "      <td>3.000000</td>\n",
       "      <td>200.000000</td>\n",
       "      <td>564.000000</td>\n",
       "      <td>1.000000</td>\n",
       "      <td>6.0</td>\n",
       "      <td>202.000000</td>\n",
       "      <td>1.000000</td>\n",
       "      <td>6.200000</td>\n",
       "      <td>2.000000</td>\n",
       "      <td>4.000000</td>\n",
       "      <td>3.000000</td>\n",
       "      <td>1.000000</td>\n",
       "    </tr>\n",
       "  </tbody>\n",
       "</table>\n",
       "</div>"
      ],
      "text/plain": [
       "              age         sex          cp    trestbps        chol         fbs  \\\n",
       "count  301.000000  301.000000  301.000000  301.000000  301.000000  301.000000   \n",
       "mean    54.395349    0.681063    0.956811  131.584718  246.295681    0.146179   \n",
       "std      9.043221    0.466841    1.027032   17.579258   51.997137    0.353874   \n",
       "min     29.000000    0.000000    0.000000   94.000000  126.000000    0.000000   \n",
       "25%     48.000000    0.000000    0.000000  120.000000  211.000000    0.000000   \n",
       "50%     55.000000    1.000000    1.000000  130.000000  240.000000    0.000000   \n",
       "75%     61.000000    1.000000    2.000000  140.000000  275.000000    0.000000   \n",
       "max     77.000000    1.000000    3.000000  200.000000  564.000000    1.000000   \n",
       "\n",
       "       restecg     thalach       exang     oldpeak       slope          ca  \\\n",
       "count    301.0  301.000000  301.000000  301.000000  301.000000  301.000000   \n",
       "mean       6.0  149.521595    0.328904    1.027243    1.408638    0.734219   \n",
       "std        0.0   22.879620    0.470597    1.153887    0.607557    1.024268   \n",
       "min        6.0   71.000000    0.000000    0.000000    0.000000    0.000000   \n",
       "25%        6.0  133.000000    0.000000    0.000000    1.000000    0.000000   \n",
       "50%        6.0  153.000000    0.000000    0.800000    1.000000    0.000000   \n",
       "75%        6.0  166.000000    1.000000    1.600000    2.000000    1.000000   \n",
       "max        6.0  202.000000    1.000000    6.200000    2.000000    4.000000   \n",
       "\n",
       "             thal      target  \n",
       "count  301.000000  301.000000  \n",
       "mean     2.318937    0.541528  \n",
       "std      0.609322    0.499102  \n",
       "min      0.000000    0.000000  \n",
       "25%      2.000000    0.000000  \n",
       "50%      2.000000    1.000000  \n",
       "75%      3.000000    1.000000  \n",
       "max      3.000000    1.000000  "
      ]
     },
     "execution_count": 16,
     "metadata": {},
     "output_type": "execute_result"
    }
   ],
   "source": [
    "df.describe()"
   ]
  },
  {
   "cell_type": "markdown",
   "metadata": {},
   "source": [
    "The 'restecg' feature contains only 1 value present in every record (maximum and minimum = 6). It has 0 std (standard deviation) which also means that it has 0 variance. A 0 variance Feature is not a good predictor. So we will drop this Feature."
   ]
  },
  {
   "cell_type": "code",
   "execution_count": 17,
   "metadata": {},
   "outputs": [],
   "source": [
    "df.drop('restecg', axis = 1, inplace = True)"
   ]
  },
  {
   "cell_type": "markdown",
   "metadata": {},
   "source": [
    "<b> Correlation between Features </b>"
   ]
  },
  {
   "cell_type": "code",
   "execution_count": 18,
   "metadata": {},
   "outputs": [
    {
     "data": {
      "text/html": [
       "<div>\n",
       "<style scoped>\n",
       "    .dataframe tbody tr th:only-of-type {\n",
       "        vertical-align: middle;\n",
       "    }\n",
       "\n",
       "    .dataframe tbody tr th {\n",
       "        vertical-align: top;\n",
       "    }\n",
       "\n",
       "    .dataframe thead th {\n",
       "        text-align: right;\n",
       "    }\n",
       "</style>\n",
       "<table border=\"1\" class=\"dataframe\">\n",
       "  <thead>\n",
       "    <tr style=\"text-align: right;\">\n",
       "      <th></th>\n",
       "      <th>age</th>\n",
       "      <th>sex</th>\n",
       "      <th>cp</th>\n",
       "      <th>trestbps</th>\n",
       "      <th>chol</th>\n",
       "      <th>fbs</th>\n",
       "      <th>thalach</th>\n",
       "      <th>exang</th>\n",
       "      <th>oldpeak</th>\n",
       "      <th>slope</th>\n",
       "      <th>ca</th>\n",
       "      <th>thal</th>\n",
       "      <th>target</th>\n",
       "    </tr>\n",
       "  </thead>\n",
       "  <tbody>\n",
       "    <tr>\n",
       "      <th>age</th>\n",
       "      <td>1.000000</td>\n",
       "      <td>-0.097153</td>\n",
       "      <td>-0.069576</td>\n",
       "      <td>0.278756</td>\n",
       "      <td>0.216606</td>\n",
       "      <td>0.113124</td>\n",
       "      <td>-0.392934</td>\n",
       "      <td>0.095448</td>\n",
       "      <td>0.223852</td>\n",
       "      <td>-0.180569</td>\n",
       "      <td>0.276604</td>\n",
       "      <td>0.072620</td>\n",
       "      <td>-0.224838</td>\n",
       "    </tr>\n",
       "    <tr>\n",
       "      <th>sex</th>\n",
       "      <td>-0.097153</td>\n",
       "      <td>1.000000</td>\n",
       "      <td>-0.056634</td>\n",
       "      <td>-0.058435</td>\n",
       "      <td>-0.197824</td>\n",
       "      <td>0.041025</td>\n",
       "      <td>-0.048037</td>\n",
       "      <td>0.145274</td>\n",
       "      <td>0.089820</td>\n",
       "      <td>-0.020811</td>\n",
       "      <td>0.121889</td>\n",
       "      <td>0.218170</td>\n",
       "      <td>-0.286312</td>\n",
       "    </tr>\n",
       "    <tr>\n",
       "      <th>cp</th>\n",
       "      <td>-0.069576</td>\n",
       "      <td>-0.056634</td>\n",
       "      <td>1.000000</td>\n",
       "      <td>0.043314</td>\n",
       "      <td>-0.076098</td>\n",
       "      <td>0.081630</td>\n",
       "      <td>0.293893</td>\n",
       "      <td>-0.391214</td>\n",
       "      <td>-0.166363</td>\n",
       "      <td>0.145904</td>\n",
       "      <td>-0.175721</td>\n",
       "      <td>-0.148365</td>\n",
       "      <td>0.429449</td>\n",
       "    </tr>\n",
       "    <tr>\n",
       "      <th>trestbps</th>\n",
       "      <td>0.278756</td>\n",
       "      <td>-0.058435</td>\n",
       "      <td>0.043314</td>\n",
       "      <td>1.000000</td>\n",
       "      <td>0.123980</td>\n",
       "      <td>0.173220</td>\n",
       "      <td>-0.046500</td>\n",
       "      <td>0.069349</td>\n",
       "      <td>0.193121</td>\n",
       "      <td>-0.118572</td>\n",
       "      <td>0.103258</td>\n",
       "      <td>0.068110</td>\n",
       "      <td>-0.147525</td>\n",
       "    </tr>\n",
       "    <tr>\n",
       "      <th>chol</th>\n",
       "      <td>0.216606</td>\n",
       "      <td>-0.197824</td>\n",
       "      <td>-0.076098</td>\n",
       "      <td>0.123980</td>\n",
       "      <td>1.000000</td>\n",
       "      <td>0.015578</td>\n",
       "      <td>-0.010360</td>\n",
       "      <td>0.066712</td>\n",
       "      <td>0.054900</td>\n",
       "      <td>-0.005526</td>\n",
       "      <td>0.070201</td>\n",
       "      <td>0.097909</td>\n",
       "      <td>-0.084926</td>\n",
       "    </tr>\n",
       "    <tr>\n",
       "      <th>fbs</th>\n",
       "      <td>0.113124</td>\n",
       "      <td>0.041025</td>\n",
       "      <td>0.081630</td>\n",
       "      <td>0.173220</td>\n",
       "      <td>0.015578</td>\n",
       "      <td>1.000000</td>\n",
       "      <td>-0.006567</td>\n",
       "      <td>0.030589</td>\n",
       "      <td>0.000011</td>\n",
       "      <td>-0.046203</td>\n",
       "      <td>0.144331</td>\n",
       "      <td>-0.015973</td>\n",
       "      <td>-0.034485</td>\n",
       "    </tr>\n",
       "    <tr>\n",
       "      <th>thalach</th>\n",
       "      <td>-0.392934</td>\n",
       "      <td>-0.048037</td>\n",
       "      <td>0.293893</td>\n",
       "      <td>-0.046500</td>\n",
       "      <td>-0.010360</td>\n",
       "      <td>-0.006567</td>\n",
       "      <td>1.000000</td>\n",
       "      <td>-0.377273</td>\n",
       "      <td>-0.360748</td>\n",
       "      <td>0.408096</td>\n",
       "      <td>-0.210551</td>\n",
       "      <td>-0.094702</td>\n",
       "      <td>0.419753</td>\n",
       "    </tr>\n",
       "    <tr>\n",
       "      <th>exang</th>\n",
       "      <td>0.095448</td>\n",
       "      <td>0.145274</td>\n",
       "      <td>-0.391214</td>\n",
       "      <td>0.069349</td>\n",
       "      <td>0.066712</td>\n",
       "      <td>0.030589</td>\n",
       "      <td>-0.377273</td>\n",
       "      <td>1.000000</td>\n",
       "      <td>0.298966</td>\n",
       "      <td>-0.273452</td>\n",
       "      <td>0.112806</td>\n",
       "      <td>0.202564</td>\n",
       "      <td>-0.434432</td>\n",
       "    </tr>\n",
       "    <tr>\n",
       "      <th>oldpeak</th>\n",
       "      <td>0.223852</td>\n",
       "      <td>0.089820</td>\n",
       "      <td>-0.166363</td>\n",
       "      <td>0.193121</td>\n",
       "      <td>0.054900</td>\n",
       "      <td>0.000011</td>\n",
       "      <td>-0.360748</td>\n",
       "      <td>0.298966</td>\n",
       "      <td>1.000000</td>\n",
       "      <td>-0.568436</td>\n",
       "      <td>0.232902</td>\n",
       "      <td>0.225598</td>\n",
       "      <td>-0.445908</td>\n",
       "    </tr>\n",
       "    <tr>\n",
       "      <th>slope</th>\n",
       "      <td>-0.180569</td>\n",
       "      <td>-0.020811</td>\n",
       "      <td>0.145904</td>\n",
       "      <td>-0.118572</td>\n",
       "      <td>-0.005526</td>\n",
       "      <td>-0.046203</td>\n",
       "      <td>0.408096</td>\n",
       "      <td>-0.273452</td>\n",
       "      <td>-0.568436</td>\n",
       "      <td>1.000000</td>\n",
       "      <td>-0.092715</td>\n",
       "      <td>-0.128123</td>\n",
       "      <td>0.367067</td>\n",
       "    </tr>\n",
       "    <tr>\n",
       "      <th>ca</th>\n",
       "      <td>0.276604</td>\n",
       "      <td>0.121889</td>\n",
       "      <td>-0.175721</td>\n",
       "      <td>0.103258</td>\n",
       "      <td>0.070201</td>\n",
       "      <td>0.144331</td>\n",
       "      <td>-0.210551</td>\n",
       "      <td>0.112806</td>\n",
       "      <td>0.232902</td>\n",
       "      <td>-0.092715</td>\n",
       "      <td>1.000000</td>\n",
       "      <td>0.146956</td>\n",
       "      <td>-0.389124</td>\n",
       "    </tr>\n",
       "    <tr>\n",
       "      <th>thal</th>\n",
       "      <td>0.072620</td>\n",
       "      <td>0.218170</td>\n",
       "      <td>-0.148365</td>\n",
       "      <td>0.068110</td>\n",
       "      <td>0.097909</td>\n",
       "      <td>-0.015973</td>\n",
       "      <td>-0.094702</td>\n",
       "      <td>0.202564</td>\n",
       "      <td>0.225598</td>\n",
       "      <td>-0.128123</td>\n",
       "      <td>0.146956</td>\n",
       "      <td>1.000000</td>\n",
       "      <td>-0.339639</td>\n",
       "    </tr>\n",
       "    <tr>\n",
       "      <th>target</th>\n",
       "      <td>-0.224838</td>\n",
       "      <td>-0.286312</td>\n",
       "      <td>0.429449</td>\n",
       "      <td>-0.147525</td>\n",
       "      <td>-0.084926</td>\n",
       "      <td>-0.034485</td>\n",
       "      <td>0.419753</td>\n",
       "      <td>-0.434432</td>\n",
       "      <td>-0.445908</td>\n",
       "      <td>0.367067</td>\n",
       "      <td>-0.389124</td>\n",
       "      <td>-0.339639</td>\n",
       "      <td>1.000000</td>\n",
       "    </tr>\n",
       "  </tbody>\n",
       "</table>\n",
       "</div>"
      ],
      "text/plain": [
       "               age       sex        cp  trestbps      chol       fbs  \\\n",
       "age       1.000000 -0.097153 -0.069576  0.278756  0.216606  0.113124   \n",
       "sex      -0.097153  1.000000 -0.056634 -0.058435 -0.197824  0.041025   \n",
       "cp       -0.069576 -0.056634  1.000000  0.043314 -0.076098  0.081630   \n",
       "trestbps  0.278756 -0.058435  0.043314  1.000000  0.123980  0.173220   \n",
       "chol      0.216606 -0.197824 -0.076098  0.123980  1.000000  0.015578   \n",
       "fbs       0.113124  0.041025  0.081630  0.173220  0.015578  1.000000   \n",
       "thalach  -0.392934 -0.048037  0.293893 -0.046500 -0.010360 -0.006567   \n",
       "exang     0.095448  0.145274 -0.391214  0.069349  0.066712  0.030589   \n",
       "oldpeak   0.223852  0.089820 -0.166363  0.193121  0.054900  0.000011   \n",
       "slope    -0.180569 -0.020811  0.145904 -0.118572 -0.005526 -0.046203   \n",
       "ca        0.276604  0.121889 -0.175721  0.103258  0.070201  0.144331   \n",
       "thal      0.072620  0.218170 -0.148365  0.068110  0.097909 -0.015973   \n",
       "target   -0.224838 -0.286312  0.429449 -0.147525 -0.084926 -0.034485   \n",
       "\n",
       "           thalach     exang   oldpeak     slope        ca      thal    target  \n",
       "age      -0.392934  0.095448  0.223852 -0.180569  0.276604  0.072620 -0.224838  \n",
       "sex      -0.048037  0.145274  0.089820 -0.020811  0.121889  0.218170 -0.286312  \n",
       "cp        0.293893 -0.391214 -0.166363  0.145904 -0.175721 -0.148365  0.429449  \n",
       "trestbps -0.046500  0.069349  0.193121 -0.118572  0.103258  0.068110 -0.147525  \n",
       "chol     -0.010360  0.066712  0.054900 -0.005526  0.070201  0.097909 -0.084926  \n",
       "fbs      -0.006567  0.030589  0.000011 -0.046203  0.144331 -0.015973 -0.034485  \n",
       "thalach   1.000000 -0.377273 -0.360748  0.408096 -0.210551 -0.094702  0.419753  \n",
       "exang    -0.377273  1.000000  0.298966 -0.273452  0.112806  0.202564 -0.434432  \n",
       "oldpeak  -0.360748  0.298966  1.000000 -0.568436  0.232902  0.225598 -0.445908  \n",
       "slope     0.408096 -0.273452 -0.568436  1.000000 -0.092715 -0.128123  0.367067  \n",
       "ca       -0.210551  0.112806  0.232902 -0.092715  1.000000  0.146956 -0.389124  \n",
       "thal     -0.094702  0.202564  0.225598 -0.128123  0.146956  1.000000 -0.339639  \n",
       "target    0.419753 -0.434432 -0.445908  0.367067 -0.389124 -0.339639  1.000000  "
      ]
     },
     "execution_count": 18,
     "metadata": {},
     "output_type": "execute_result"
    }
   ],
   "source": [
    "df.corr()"
   ]
  },
  {
   "cell_type": "markdown",
   "metadata": {},
   "source": [
    "As this correlation df is not easily interpretable, Lets plot a <b>Correlation Heatmap</b>"
   ]
  },
  {
   "cell_type": "code",
   "execution_count": 19,
   "metadata": {},
   "outputs": [
    {
     "data": {
      "text/plain": [
       "Text(0.5, 1.0, 'Correlation Heatmap')"
      ]
     },
     "execution_count": 19,
     "metadata": {},
     "output_type": "execute_result"
    },
    {
     "data": {
      "image/png": "[encoded data removed]",
      "text/plain": [
       "<Figure size 1296x576 with 2 Axes>"
      ]
     },
     "metadata": {
      "needs_background": "light"
     },
     "output_type": "display_data"
    }
   ],
   "source": [
    "import seaborn as sns\n",
    "plt.figure(figsize = (18,8))\n",
    "sns.heatmap(df.corr(), annot = True)\n",
    "plt.title('Correlation Heatmap', fontsize = 14)"
   ]
  },
  {
   "cell_type": "markdown",
   "metadata": {},
   "source": [
    "From above heatmap, it can be said that there is no multi collinearity in data"
   ]
  },
  {
   "cell_type": "markdown",
   "metadata": {},
   "source": [
    "<b>Check For Outliers</b>"
   ]
  },
  {
   "cell_type": "code",
   "execution_count": 20,
   "metadata": {},
   "outputs": [
    {
     "data": {
      "text/plain": [
       "Text(0.5, 1.0, 'Boxplot of all Input Features')"
      ]
     },
     "execution_count": 20,
     "metadata": {},
     "output_type": "execute_result"
    },
    {
     "data": {
      "image/png": "[encoded data removed]",
      "text/plain": [
       "<Figure size 1440x720 with 1 Axes>"
      ]
     },
     "metadata": {
      "needs_background": "light"
     },
     "output_type": "display_data"
    }
   ],
   "source": [
    "plt.figure(figsize = (20,10))\n",
    "df.drop('target', axis = 1).boxplot()\n",
    "plt.xlabel('Inputs / Features')\n",
    "plt.title('Boxplot of all Input Features')"
   ]
  },
  {
   "cell_type": "markdown",
   "metadata": {},
   "source": [
    "There are outliers present in 'chol' and 'trestbps' Input Features"
   ]
  },
  {
   "cell_type": "code",
   "execution_count": 21,
   "metadata": {},
   "outputs": [
    {
     "name": "stderr",
     "output_type": "stream",
     "text": [
      "c:\\users\\rahul\\appdata\\local\\programs\\python\\python39\\lib\\site-packages\\seaborn\\distributions.py:2557: FutureWarning: `distplot` is a deprecated function and will be removed in a future version. Please adapt your code to use either `displot` (a figure-level function with similar flexibility) or `kdeplot` (an axes-level function for kernel density plots).\n",
      "  warnings.warn(msg, FutureWarning)\n",
      "c:\\users\\rahul\\appdata\\local\\programs\\python\\python39\\lib\\site-packages\\seaborn\\distributions.py:2056: FutureWarning: The `axis` variable is no longer used and will be removed. Instead, assign variables directly to `x` or `y`.\n",
      "  warnings.warn(msg, FutureWarning)\n",
      "c:\\users\\rahul\\appdata\\local\\programs\\python\\python39\\lib\\site-packages\\seaborn\\distributions.py:2557: FutureWarning: `distplot` is a deprecated function and will be removed in a future version. Please adapt your code to use either `displot` (a figure-level function with similar flexibility) or `kdeplot` (an axes-level function for kernel density plots).\n",
      "  warnings.warn(msg, FutureWarning)\n",
      "c:\\users\\rahul\\appdata\\local\\programs\\python\\python39\\lib\\site-packages\\seaborn\\distributions.py:2056: FutureWarning: The `axis` variable is no longer used and will be removed. Instead, assign variables directly to `x` or `y`.\n",
      "  warnings.warn(msg, FutureWarning)\n"
     ]
    },
    {
     "data": {
      "image/png": "[encoded data removed]",
      "text/plain": [
       "<Figure size 1296x432 with 1 Axes>"
      ]
     },
     "metadata": {
      "needs_background": "light"
     },
     "output_type": "display_data"
    }
   ],
   "source": [
    "# thalach : maximum heart rate achieved\n",
    "plt.figure(figsize = (18,6))\n",
    "sns.distplot(df[df.target == 0].thalach, hist=False, rug=True, label = 'Normal person')\n",
    "sns.distplot(df[df.target == 1].thalach, hist=False, rug=True, label = 'person with heart disease')\n",
    "plt.title('Histogram of maximum hear rate achieved')\n",
    "\n",
    "# plot vertical lines representing mean heart rate for heart patients and normal person\n",
    "plt.vlines(df[df.target == 0].thalach.mean(), 0, 0.025, linestyles =\"dotted\", colors =\"blue\",\n",
    "           label = 'normal person heart rate mean')\n",
    "plt.vlines(df[df.target == 1].thalach.mean(), 0, 0.025, linestyles =\"dotted\", colors =\"orange\",\n",
    "           label = 'heart disease patients rate mean')\n",
    "plt.legend()\n",
    "plt.show()"
   ]
  },
  {
   "cell_type": "markdown",
   "metadata": {},
   "source": [
    "Person with Heart Disease tend to have higher heart rate compared to a normal person. "
   ]
  },
  {
   "cell_type": "markdown",
   "metadata": {},
   "source": [
    "<b> Lets find out age wise distribution of heart patients</b>"
   ]
  },
  {
   "cell_type": "code",
   "execution_count": 22,
   "metadata": {},
   "outputs": [
    {
     "name": "stderr",
     "output_type": "stream",
     "text": [
      "c:\\users\\rahul\\appdata\\local\\programs\\python\\python39\\lib\\site-packages\\seaborn\\distributions.py:2557: FutureWarning: `distplot` is a deprecated function and will be removed in a future version. Please adapt your code to use either `displot` (a figure-level function with similar flexibility) or `kdeplot` (an axes-level function for kernel density plots).\n",
      "  warnings.warn(msg, FutureWarning)\n",
      "c:\\users\\rahul\\appdata\\local\\programs\\python\\python39\\lib\\site-packages\\seaborn\\distributions.py:2056: FutureWarning: The `axis` variable is no longer used and will be removed. Instead, assign variables directly to `x` or `y`.\n",
      "  warnings.warn(msg, FutureWarning)\n"
     ]
    },
    {
     "data": {
      "text/plain": [
       "<matplotlib.legend.Legend at 0x257ef075cd0>"
      ]
     },
     "execution_count": 22,
     "metadata": {},
     "output_type": "execute_result"
    },
    {
     "data": {
      "image/png": "[encoded data removed]",
      "text/plain": [
       "<Figure size 1296x432 with 1 Axes>"
      ]
     },
     "metadata": {
      "needs_background": "light"
     },
     "output_type": "display_data"
    }
   ],
   "source": [
    "plt.figure(figsize = (18,6))\n",
    "sns.distplot(df[df.target == 1].age, hist=False, rug=True, label = 'person with heart disease')\n",
    "plt.title('Histogram of Heart Patients by Age', fontsize = 16)\n",
    "plt.legend(fontsize = 12)"
   ]
  },
  {
   "cell_type": "markdown",
   "metadata": {},
   "source": [
    "From this plot, it is clear that people start to develope heart related disease after 30 years of age."
   ]
  },
  {
   "cell_type": "code",
   "execution_count": 23,
   "metadata": {},
   "outputs": [
    {
     "data": {
      "text/plain": [
       "Text(0.5, 1.0, 'Percent of people with heart disease')"
      ]
     },
     "execution_count": 23,
     "metadata": {},
     "output_type": "execute_result"
    },
    {
     "data": {
      "image/png": "[encoded data removed]",
      "text/plain": [
       "<Figure size 1296x432 with 1 Axes>"
      ]
     },
     "metadata": {
      "needs_background": "light"
     },
     "output_type": "display_data"
    }
   ],
   "source": [
    "plt.figure(figsize = (18,6))\n",
    "df.target.value_counts(normalize = True).plot(kind = 'bar')\n",
    "plt.xlabel('Persons/patients | 1 : Heart patient, 0 : Normal Person', fontsize = 14)\n",
    "plt.xticks(rotation = 90)\n",
    "plt.ylabel('Percentage', fontsize = 14)\n",
    "plt.title('Percent of people with heart disease', fontsize = 16)"
   ]
  },
  {
   "cell_type": "markdown",
   "metadata": {},
   "source": [
    "More than 50 % of people in the dataset have heart related disease."
   ]
  },
  {
   "cell_type": "markdown",
   "metadata": {},
   "source": [
    "<b> Remove Outlier </b>"
   ]
  },
  {
   "cell_type": "code",
   "execution_count": 24,
   "metadata": {},
   "outputs": [],
   "source": [
    "# keep df dataset as backup\n",
    "df1 = df.copy()"
   ]
  },
  {
   "cell_type": "code",
   "execution_count": 25,
   "metadata": {},
   "outputs": [
    {
     "name": "stdout",
     "output_type": "stream",
     "text": [
      "18 Outliers removed.\n"
     ]
    }
   ],
   "source": [
    "# Store the length of Initial Dataset\n",
    "number_of_records = df1.shape[0]\n",
    "\n",
    "# Features which had outliers \n",
    "outlier_feature = ['trestbps', 'chol']\n",
    "\n",
    "# For every input/ Feature, identify and remove outliers\n",
    "for i in outlier_feature:\n",
    "\n",
    "    # Find 1st and 3rd Quartile\n",
    "    q1 = df1[i].quantile(0.25)\n",
    "    q3 = df1[i].quantile(0.75)\n",
    "\n",
    "    # Find Inter Quartile Range (IQR)\n",
    "    iqr = q3-q1\n",
    "\n",
    "    # Find lower and Upper Limits\n",
    "    lower_limit = q1 - 1.5 * iqr\n",
    "    upper_limit = q3 + 1.5 * iqr\n",
    "\n",
    "    # Remove Outliers (Data Points/Records Present outside (lower_limit, upper_limit) Range)\n",
    "    df1 = df1[(df1[i] > lower_limit) & (df1[i] < upper_limit)]\n",
    "    \n",
    "print('{} Outliers removed.'.format(number_of_records-len(df1)))"
   ]
  },
  {
   "cell_type": "markdown",
   "metadata": {},
   "source": [
    "<b>Separate Feature & Target</b>"
   ]
  },
  {
   "cell_type": "code",
   "execution_count": 26,
   "metadata": {},
   "outputs": [],
   "source": [
    "X = df1.drop('target', axis=1)# independent Variables\n",
    "y = df1['target'] #Dependent or target variables"
   ]
  },
  {
   "cell_type": "markdown",
   "metadata": {},
   "source": [
    "<b>Feature Normalization</b>"
   ]
  },
  {
   "cell_type": "code",
   "execution_count": 27,
   "metadata": {},
   "outputs": [],
   "source": [
    "# Initialize the imported MinMax Scaler\n",
    "scaler = MinMaxScaler(feature_range=(0, 1))\n",
    "\n",
    "# Train & Transform input Features\n",
    "X = scaler.fit_transform(X)"
   ]
  },
  {
   "cell_type": "markdown",
   "metadata": {},
   "source": [
    "# Lets implement models using different tyes of kernel (Linear, Polynomial & RBF)"
   ]
  },
  {
   "cell_type": "markdown",
   "metadata": {},
   "source": [
    "<b>Linear</b>"
   ]
  },
  {
   "cell_type": "code",
   "execution_count": 30,
   "metadata": {},
   "outputs": [],
   "source": [
    "# Initialize a SVC with Linear kernel and define the range of values for hyper-parameter C and epsilon.\n",
    "# Read more about these hyper-parameter through the link provided in the First cell of this notebook.\n",
    "\n",
    "grd = GridSearchCV(estimator=SVC(kernel='linear'),\n",
    "                       param_grid={\n",
    "            'C': [0.1, 1, 100, 1000],\n",
    "            'degree': [2, 4],\n",
    "            'coef0': [0.001, 0.0001],\n",
    "            'gamma': ['scale', 'auto']\n",
    "        },\n",
    "                       cv=5, scoring='accuracy', verbose=0, n_jobs=-1)"
   ]
  },
  {
   "cell_type": "code",
   "execution_count": 31,
   "metadata": {},
   "outputs": [
    {
     "name": "stdout",
     "output_type": "stream",
     "text": [
      "best parameters for Linear kernel : {'C': 1, 'coef0': 0.001, 'degree': 2, 'gamma': 'scale'}\n",
      "Accuracy of Linear Kernel =  0.8304187192118228\n",
      "Log-loss of Linear Kernel =  0.398\n"
     ]
    }
   ],
   "source": [
    "# Fit GridSearch\n",
    "grid_result = grd.fit(X, y)\n",
    "\n",
    "# Obtain best Parameters\n",
    "best_params = grid_result.best_params_\n",
    "print(\"best parameters for Linear kernel :\", best_params)\n",
    "\n",
    "# Define the best SVM Linear model\n",
    "best_svc = SVC(kernel='linear', C=best_params[\"C\"], gamma=best_params[\"gamma\"], coef0=0.1, shrinking=True,\n",
    "                   tol=0.001, cache_size=200, verbose=False, max_iter=-1,  probability=True)\n",
    "\n",
    "scoring = {\n",
    "    'accuracy_score': 'accuracy',\n",
    "    'log_loss_score': 'neg_log_loss'}\n",
    "\n",
    "scores = cross_validate(best_svc, X, y, cv=10, scoring=scoring, return_train_score=True)\n",
    "\n",
    "print('Accuracy of Linear Kernel = ', (scores['test_accuracy_score'].mean()))\n",
    "print('Log-loss of Linear Kernel = ', -(round(scores['test_log_loss_score'].mean(),3)))    # Multiply by 0, as we are using \"neg_log_loss\""
   ]
  },
  {
   "cell_type": "markdown",
   "metadata": {},
   "source": [
    "<b>Polynomial Kernel</b>"
   ]
  },
  {
   "cell_type": "code",
   "execution_count": 32,
   "metadata": {},
   "outputs": [],
   "source": [
    "\n",
    "grs = GridSearchCV(estimator=SVC(kernel='poly'),\n",
    "                       param_grid={\n",
    "            'C': [0.1, 1, 100, 1000],\n",
    "            'degree': [2, 3, 4],\n",
    "            'coef0': [0.1, 0.01, 0.001, 0.0001],\n",
    "            'gamma': [0.0001, 0.001, 0.005, 0.1, 1, 3, 5, 'scale', 'auto']\n",
    "        },\n",
    "                       cv=5, scoring='accuracy', verbose=0, n_jobs=-1)"
   ]
  },
  {
   "cell_type": "code",
   "execution_count": 33,
   "metadata": {},
   "outputs": [
    {
     "name": "stdout",
     "output_type": "stream",
     "text": [
      "best parameters for Polynomial kernel : {'C': 1000, 'coef0': 0.1, 'degree': 2, 'gamma': 0.005}\n",
      "Accuracy of Linear Kernel =  0.8198275862068964\n",
      "Log-loss of Linear Kernel =  0.399\n"
     ]
    }
   ],
   "source": [
    "# Fit GridSearch\n",
    "grid_result = grs.fit(X, y)\n",
    "\n",
    "# Obtain best Parameters\n",
    "best_params = grid_result.best_params_\n",
    "print(\"best parameters for Polynomial kernel :\", best_params)\n",
    "\n",
    "# Define the best SVM Linear model\n",
    "best_svc = SVC(kernel='poly', C=best_params[\"C\"], gamma=best_params[\"gamma\"], degree=best_params[\"degree\"],\n",
    "               coef0 = best_params[\"coef0\"], shrinking=True, tol=0.001, cache_size=200, verbose=False, max_iter=-1,\n",
    "               probability=True)\n",
    "\n",
    "scoring = {\n",
    "    'accuracy_score': 'accuracy',\n",
    "    'log_loss_score': 'neg_log_loss'}\n",
    "\n",
    "scores = cross_validate(best_svc, X, y, cv=10, scoring=scoring, return_train_score=True)\n",
    "\n",
    "print('Accuracy of Linear Kernel = ', (scores['test_accuracy_score'].mean()))\n",
    "print('Log-loss of Linear Kernel = ', -(round(scores['test_log_loss_score'].mean(),3)))    # Multiply by 0, as we are using \"neg_log_loss\""
   ]
  },
  {
   "cell_type": "markdown",
   "metadata": {},
   "source": [
    "<b>RBF Kernel</b>"
   ]
  },
  {
   "cell_type": "code",
   "execution_count": 34,
   "metadata": {},
   "outputs": [],
   "source": [
    "gsc = GridSearchCV(\n",
    "        estimator=SVC(kernel='rbf'),\n",
    "        param_grid={\n",
    "            'C': [0.1, 1, 100, 1000],\n",
    "            'degree': [2, 3, 4],\n",
    "            'coef0': [0.1, 0.01, 0.001, 0.0001],\n",
    "            'gamma': [0.0001, 0.001, 0.005, 0.1, 1, 3, 5, 'scale', 'auto']\n",
    "        },\n",
    "        cv=5, scoring='accuracy', verbose=0, n_jobs=-1)"
   ]
  },
  {
   "cell_type": "code",
   "execution_count": 35,
   "metadata": {},
   "outputs": [
    {
     "name": "stdout",
     "output_type": "stream",
     "text": [
      "best parameters for rbf kernel : {'C': 100, 'coef0': 0.1, 'degree': 2, 'gamma': 0.005}\n",
      "Accuracy of Linear Kernel =  0.8304187192118228\n",
      "Log-loss of Linear Kernel =  0.397\n"
     ]
    }
   ],
   "source": [
    "# Fit GridSearch\n",
    "grid_result = gsc.fit(X, y)\n",
    "\n",
    "# Obtain best Parameters\n",
    "best_params = grid_result.best_params_\n",
    "print(\"best parameters for rbf kernel :\", best_params)\n",
    "\n",
    "# Define the best SVM Linear model\n",
    "best_svc = SVC(kernel='rbf', C=best_params[\"C\"], gamma=best_params[\"gamma\"], degree=best_params[\"degree\"],\n",
    "               coef0 = best_params[\"coef0\"], shrinking=True, tol=0.001, cache_size=200, verbose=False, max_iter=-1,\n",
    "               probability=True)\n",
    "\n",
    "scoring = {\n",
    "    'accuracy_score': 'accuracy',\n",
    "    'log_loss_score': 'neg_log_loss'}\n",
    "\n",
    "scores = cross_validate(best_svc, X, y, cv=10, scoring=scoring, return_train_score=True)\n",
    "\n",
    "print('Accuracy of Linear Kernel = ', (scores['test_accuracy_score'].mean()))\n",
    "print('Log-loss of Linear Kernel = ', -(round(scores['test_log_loss_score'].mean(),3)))    # Multiply by 0, as we are using \"neg_log_loss\""
   ]
  },
  {
   "cell_type": "markdown",
   "metadata": {},
   "source": [
    "Based on the above results we could say that the dataset has a linear trend. As the performance of SVM Classifier with linear and rbf kernel is better than polynomial kernels. But, in case of rbf kernel the log-loss score is least. so, it can be said that for the given dataset rbf kernel works best."
   ]
  }
 ],
 "metadata": {
  "kernelspec": {
   "display_name": "Python 3",
   "language": "python",
   "name": "python3"
  },
  "language_info": {
   "codemirror_mode": {
    "name": "ipython",
    "version": 3
   },
   "file_extension": ".py",
   "mimetype": "text/x-python",
   "name": "python",
   "nbconvert_exporter": "python",
   "pygments_lexer": "ipython3",
   "version": "3.9.1"
  }
 },
 "nbformat": 4,
 "nbformat_minor": 4
}
